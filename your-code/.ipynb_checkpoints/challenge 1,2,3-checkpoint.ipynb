{
 "cells": [
  {
   "cell_type": "code",
   "execution_count": 103,
   "metadata": {},
   "outputs": [
    {
     "name": "stdout",
     "output_type": "stream",
     "text": [
      "Welcome to this calculator! \n",
      "It can add and subtract whole numbers from 0 to 5 \n",
      "\n",
      "What do you want to do? plus or minus: plus\n",
      "Please choose your first number (1 to 5): 2\n",
      "Please choose your second number (1 to 5): 2\n",
      "2 + 2 = 4\n",
      "\n",
      "Thanks for using this calculator, goodbye :)\n"
     ]
    }
   ],
   "source": [
    "# challenge 1 \n",
    "def plus(nr1, nr2):\n",
    "    result = nr1 + nr2\n",
    "    return result \n",
    "\n",
    "def minus(nr1, nr2):\n",
    "    result = nr1 - nr2\n",
    "    return result\n",
    "\n",
    "print('Welcome to this calculator! \\nIt can add and subtract whole numbers from 0 to 5 \\n')\n",
    "\n",
    "plus_or_minus = input('What do you want to do? plus or minus: ') \n",
    "number1 = int(input('Please choose your first number (1 to 5): '))\n",
    "number2 = int(input('Please choose your second number (1 to 5): '))\n",
    "\n",
    "if plus_or_minus == 'plus':\n",
    "    print(number1, '+', number2, '=', plus(number1, number2)) \n",
    "elif plus_or_minus == 'minus':\n",
    "    print(number1, '+', number2, '=', minus(number1, number2)) \n",
    "else:\n",
    "    print('I am not able to answer this question. Check your input.')\n",
    "\n",
    "print(\"\\nThanks for using this calculator, goodbye :)\")"
   ]
  },
  {
   "cell_type": "code",
   "execution_count": 102,
   "metadata": {},
   "outputs": [
    {
     "name": "stdout",
     "output_type": "stream",
     "text": [
      "Enter minimum string length: 3\n",
      "Enter maximum string length: 3\n",
      "How many random strings to generate? 3\n"
     ]
    },
    {
     "data": {
      "text/plain": [
       "['cwu', '39d', '0qj']"
      ]
     },
     "execution_count": 102,
     "metadata": {},
     "output_type": "execute_result"
    }
   ],
   "source": [
    "# challenge 2\n",
    "import random\n",
    "import sys\n",
    "\n",
    "def random_string_generator(length=12):\n",
    "    string = ''\n",
    "    values = ['a','b','c','d','e','f','g','h','i','j','k','l','m','n','o','p','q','r',\n",
    "              's','t','u','v','w','x','y','z','0','1','2','3','4','5','6','7','8','9']\n",
    "    x = 0\n",
    "    while x < length:\n",
    "        string += random.choice(values)\n",
    "        x += 1\n",
    "    return string \n",
    "\n",
    "def batch_string_generator(amount_strings=1, min_len=8, max_len=12):\n",
    "    list_strings = [] \n",
    "    for i in range(amount_strings):\n",
    "        len_strings = 0\n",
    "        if min_len < max_len:\n",
    "            len_strings = random.choice(range(min_len, max_len))\n",
    "        elif min_len == max_len:\n",
    "            len_strings = min_len\n",
    "        else:\n",
    "            sys.exit('Incorrect min and max string lengths. Try again.')\n",
    "        list_strings.append(random_string_generator(len_strings))\n",
    "    return list_strings \n",
    "\n",
    "input_min_length = int(input('Enter minimum string length: '))\n",
    "input_max_length = int(input('Enter maximum string length: '))\n",
    "input_amount_strings = int(input('How many random strings to generate? '))\n",
    "\n",
    "batch_string_generator(input_amount_strings, input_min_length, input_max_length)"
   ]
  },
  {
   "cell_type": "code",
   "execution_count": 104,
   "metadata": {},
   "outputs": [
    {
     "name": "stdout",
     "output_type": "stream",
     "text": [
      "What is the maximal length of the triangle side? Enter a number: 33\n",
      "The longest side possible is 30\n"
     ]
    }
   ],
   "source": [
    "# challenge 3\n",
    "def longest_side_possible(max_length):\n",
    "    solutions = [[x,y,z] for x in range(5, max_length) for y in range(4, max_length) for z in range(3, max_length) \n",
    "                 if (x*x == y*y + z*z)]\n",
    "    side = 0\n",
    "    for solution in solutions:\n",
    "        if side < max(solution):\n",
    "            side = max(solution) \n",
    "    return side\n",
    "\n",
    "input_max_length = int(input(\"What is the maximal length of the triangle side? Enter a number: \"))\n",
    "\n",
    "print(\"The longest side possible is\", longest_side_possible(input_max_length))"
   ]
  },
  {
   "cell_type": "code",
   "execution_count": null,
   "metadata": {},
   "outputs": [],
   "source": []
  }
 ],
 "metadata": {
  "kernelspec": {
   "display_name": "Python 3",
   "language": "python",
   "name": "python3"
  },
  "language_info": {
   "codemirror_mode": {
    "name": "ipython",
    "version": 3
   },
   "file_extension": ".py",
   "mimetype": "text/x-python",
   "name": "python",
   "nbconvert_exporter": "python",
   "pygments_lexer": "ipython3",
   "version": "3.7.3"
  }
 },
 "nbformat": 4,
 "nbformat_minor": 2
}
